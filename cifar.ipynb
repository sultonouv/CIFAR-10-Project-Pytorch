{
 "cells": [
  {
   "cell_type": "code",
   "execution_count": 3,
   "id": "647d3203-4116-47ae-ac21-bc44619f0beb",
   "metadata": {},
   "outputs": [],
   "source": [
    "import torch\n",
    "import torch.nn as nn\n",
    "import torchvision\n",
    "import torchvision.datasets as datasets\n",
    "import torchvision.transforms as transforms\n",
    "from torch.utils.data import DataLoader\n",
    "import torch.nn.functional as F\n",
    "import torch.optim as optim\n",
    "from tqdm import tqdm\n",
    "import pandas as pd\n",
    "import numpy as np\n",
    "import matplotlib.pyplot as plt"
   ]
  },
  {
   "cell_type": "code",
   "execution_count": 4,
   "id": "1bc4df7d-5029-4a25-bcc9-2331e088d5e3",
   "metadata": {},
   "outputs": [],
   "source": [
    "# Hyperparams\n",
    "BATCH_SIZE = 16\n",
    "LR = 0.001\n",
    "NUM_WORKERS = 8\n",
    "EPOCHS=100\n",
    "MOMENTUM = 0.9\n",
    "WEIGHT_DECAY = 1e-4\n",
    "DEVICE = torch.device('cuda:3')"
   ]
  },
  {
   "cell_type": "code",
   "execution_count": 5,
   "id": "2cae8628-9706-4b30-a304-22257819953d",
   "metadata": {},
   "outputs": [],
   "source": [
    "normMean = [0.485, 0.456, 0.406]\n",
    "normStd = [0.229, 0.224, 0.225]\n",
    "normTransform = transforms.Normalize(normMean, normStd)\n",
    "\n",
    "trainTransform = transforms.Compose([\n",
    "        transforms.Resize(224),\n",
    "        transforms.RandomHorizontalFlip(),\n",
    "        transforms.ToTensor(),\n",
    "        normTransform\n",
    "    ])\n",
    "testTransform = transforms.Compose([\n",
    "        transforms.Resize(224),\n",
    "        transforms.ToTensor(),\n",
    "        normTransform\n",
    "    ])"
   ]
  },
  {
   "cell_type": "code",
   "execution_count": 6,
   "id": "714bbe48-79dd-4e9b-8ba6-8fb429c48de7",
   "metadata": {},
   "outputs": [
    {
     "name": "stdout",
     "output_type": "stream",
     "text": [
      "Files already downloaded and verified\n",
      "Files already downloaded and verified\n"
     ]
    }
   ],
   "source": [
    "train_dataset = datasets.CIFAR10(root='data', train=True, download=True, transform=trainTransform)\n",
    "test_dataset = datasets.CIFAR10(root='data', train=False, download=True, transform=testTransform)\n",
    "\n",
    "train_loader = DataLoader(dataset=train_dataset, batch_size=BATCH_SIZE, shuffle=True, num_workers=NUM_WORKERS, pin_memory=True)\n",
    "test_loader = DataLoader(dataset=test_dataset, batch_size=BATCH_SIZE, shuffle=True, num_workers=NUM_WORKERS, pin_memory=True)"
   ]
  },
  {
   "cell_type": "code",
   "execution_count": 7,
   "id": "9ecd589a-ad1c-4a7a-889c-cf6e3581f4f4",
   "metadata": {},
   "outputs": [],
   "source": [
    "model = torchvision.models.resnet50(pretrained=True)\n",
    "    # for p in model.parameters():\n",
    "    #     p.requires_grad = False\n",
    "num_fltrs = model.fc.in_features\n",
    "model.fc = nn.Linear(num_fltrs, 10)\n",
    "\n",
    "model = model.to(DEVICE)"
   ]
  },
  {
   "cell_type": "code",
   "execution_count": 6,
   "id": "a9fec518-5c43-4e2f-9b87-c3ef384262d4",
   "metadata": {},
   "outputs": [
    {
     "name": "stdout",
     "output_type": "stream",
     "text": [
      "ResNet(\n",
      "  (conv1): Conv2d(3, 64, kernel_size=(7, 7), stride=(2, 2), padding=(3, 3), bias=False)\n",
      "  (bn1): BatchNorm2d(64, eps=1e-05, momentum=0.1, affine=True, track_running_stats=True)\n",
      "  (relu): ReLU(inplace=True)\n",
      "  (maxpool): MaxPool2d(kernel_size=3, stride=2, padding=1, dilation=1, ceil_mode=False)\n",
      "  (layer1): Sequential(\n",
      "    (0): Bottleneck(\n",
      "      (conv1): Conv2d(64, 64, kernel_size=(1, 1), stride=(1, 1), bias=False)\n",
      "      (bn1): BatchNorm2d(64, eps=1e-05, momentum=0.1, affine=True, track_running_stats=True)\n",
      "      (conv2): Conv2d(64, 64, kernel_size=(3, 3), stride=(1, 1), padding=(1, 1), bias=False)\n",
      "      (bn2): BatchNorm2d(64, eps=1e-05, momentum=0.1, affine=True, track_running_stats=True)\n",
      "      (conv3): Conv2d(64, 256, kernel_size=(1, 1), stride=(1, 1), bias=False)\n",
      "      (bn3): BatchNorm2d(256, eps=1e-05, momentum=0.1, affine=True, track_running_stats=True)\n",
      "      (relu): ReLU(inplace=True)\n",
      "      (downsample): Sequential(\n",
      "        (0): Conv2d(64, 256, kernel_size=(1, 1), stride=(1, 1), bias=False)\n",
      "        (1): BatchNorm2d(256, eps=1e-05, momentum=0.1, affine=True, track_running_stats=True)\n",
      "      )\n",
      "    )\n",
      "    (1): Bottleneck(\n",
      "      (conv1): Conv2d(256, 64, kernel_size=(1, 1), stride=(1, 1), bias=False)\n",
      "      (bn1): BatchNorm2d(64, eps=1e-05, momentum=0.1, affine=True, track_running_stats=True)\n",
      "      (conv2): Conv2d(64, 64, kernel_size=(3, 3), stride=(1, 1), padding=(1, 1), bias=False)\n",
      "      (bn2): BatchNorm2d(64, eps=1e-05, momentum=0.1, affine=True, track_running_stats=True)\n",
      "      (conv3): Conv2d(64, 256, kernel_size=(1, 1), stride=(1, 1), bias=False)\n",
      "      (bn3): BatchNorm2d(256, eps=1e-05, momentum=0.1, affine=True, track_running_stats=True)\n",
      "      (relu): ReLU(inplace=True)\n",
      "    )\n",
      "    (2): Bottleneck(\n",
      "      (conv1): Conv2d(256, 64, kernel_size=(1, 1), stride=(1, 1), bias=False)\n",
      "      (bn1): BatchNorm2d(64, eps=1e-05, momentum=0.1, affine=True, track_running_stats=True)\n",
      "      (conv2): Conv2d(64, 64, kernel_size=(3, 3), stride=(1, 1), padding=(1, 1), bias=False)\n",
      "      (bn2): BatchNorm2d(64, eps=1e-05, momentum=0.1, affine=True, track_running_stats=True)\n",
      "      (conv3): Conv2d(64, 256, kernel_size=(1, 1), stride=(1, 1), bias=False)\n",
      "      (bn3): BatchNorm2d(256, eps=1e-05, momentum=0.1, affine=True, track_running_stats=True)\n",
      "      (relu): ReLU(inplace=True)\n",
      "    )\n",
      "  )\n",
      "  (layer2): Sequential(\n",
      "    (0): Bottleneck(\n",
      "      (conv1): Conv2d(256, 128, kernel_size=(1, 1), stride=(1, 1), bias=False)\n",
      "      (bn1): BatchNorm2d(128, eps=1e-05, momentum=0.1, affine=True, track_running_stats=True)\n",
      "      (conv2): Conv2d(128, 128, kernel_size=(3, 3), stride=(2, 2), padding=(1, 1), bias=False)\n",
      "      (bn2): BatchNorm2d(128, eps=1e-05, momentum=0.1, affine=True, track_running_stats=True)\n",
      "      (conv3): Conv2d(128, 512, kernel_size=(1, 1), stride=(1, 1), bias=False)\n",
      "      (bn3): BatchNorm2d(512, eps=1e-05, momentum=0.1, affine=True, track_running_stats=True)\n",
      "      (relu): ReLU(inplace=True)\n",
      "      (downsample): Sequential(\n",
      "        (0): Conv2d(256, 512, kernel_size=(1, 1), stride=(2, 2), bias=False)\n",
      "        (1): BatchNorm2d(512, eps=1e-05, momentum=0.1, affine=True, track_running_stats=True)\n",
      "      )\n",
      "    )\n",
      "    (1): Bottleneck(\n",
      "      (conv1): Conv2d(512, 128, kernel_size=(1, 1), stride=(1, 1), bias=False)\n",
      "      (bn1): BatchNorm2d(128, eps=1e-05, momentum=0.1, affine=True, track_running_stats=True)\n",
      "      (conv2): Conv2d(128, 128, kernel_size=(3, 3), stride=(1, 1), padding=(1, 1), bias=False)\n",
      "      (bn2): BatchNorm2d(128, eps=1e-05, momentum=0.1, affine=True, track_running_stats=True)\n",
      "      (conv3): Conv2d(128, 512, kernel_size=(1, 1), stride=(1, 1), bias=False)\n",
      "      (bn3): BatchNorm2d(512, eps=1e-05, momentum=0.1, affine=True, track_running_stats=True)\n",
      "      (relu): ReLU(inplace=True)\n",
      "    )\n",
      "    (2): Bottleneck(\n",
      "      (conv1): Conv2d(512, 128, kernel_size=(1, 1), stride=(1, 1), bias=False)\n",
      "      (bn1): BatchNorm2d(128, eps=1e-05, momentum=0.1, affine=True, track_running_stats=True)\n",
      "      (conv2): Conv2d(128, 128, kernel_size=(3, 3), stride=(1, 1), padding=(1, 1), bias=False)\n",
      "      (bn2): BatchNorm2d(128, eps=1e-05, momentum=0.1, affine=True, track_running_stats=True)\n",
      "      (conv3): Conv2d(128, 512, kernel_size=(1, 1), stride=(1, 1), bias=False)\n",
      "      (bn3): BatchNorm2d(512, eps=1e-05, momentum=0.1, affine=True, track_running_stats=True)\n",
      "      (relu): ReLU(inplace=True)\n",
      "    )\n",
      "    (3): Bottleneck(\n",
      "      (conv1): Conv2d(512, 128, kernel_size=(1, 1), stride=(1, 1), bias=False)\n",
      "      (bn1): BatchNorm2d(128, eps=1e-05, momentum=0.1, affine=True, track_running_stats=True)\n",
      "      (conv2): Conv2d(128, 128, kernel_size=(3, 3), stride=(1, 1), padding=(1, 1), bias=False)\n",
      "      (bn2): BatchNorm2d(128, eps=1e-05, momentum=0.1, affine=True, track_running_stats=True)\n",
      "      (conv3): Conv2d(128, 512, kernel_size=(1, 1), stride=(1, 1), bias=False)\n",
      "      (bn3): BatchNorm2d(512, eps=1e-05, momentum=0.1, affine=True, track_running_stats=True)\n",
      "      (relu): ReLU(inplace=True)\n",
      "    )\n",
      "  )\n",
      "  (layer3): Sequential(\n",
      "    (0): Bottleneck(\n",
      "      (conv1): Conv2d(512, 256, kernel_size=(1, 1), stride=(1, 1), bias=False)\n",
      "      (bn1): BatchNorm2d(256, eps=1e-05, momentum=0.1, affine=True, track_running_stats=True)\n",
      "      (conv2): Conv2d(256, 256, kernel_size=(3, 3), stride=(2, 2), padding=(1, 1), bias=False)\n",
      "      (bn2): BatchNorm2d(256, eps=1e-05, momentum=0.1, affine=True, track_running_stats=True)\n",
      "      (conv3): Conv2d(256, 1024, kernel_size=(1, 1), stride=(1, 1), bias=False)\n",
      "      (bn3): BatchNorm2d(1024, eps=1e-05, momentum=0.1, affine=True, track_running_stats=True)\n",
      "      (relu): ReLU(inplace=True)\n",
      "      (downsample): Sequential(\n",
      "        (0): Conv2d(512, 1024, kernel_size=(1, 1), stride=(2, 2), bias=False)\n",
      "        (1): BatchNorm2d(1024, eps=1e-05, momentum=0.1, affine=True, track_running_stats=True)\n",
      "      )\n",
      "    )\n",
      "    (1): Bottleneck(\n",
      "      (conv1): Conv2d(1024, 256, kernel_size=(1, 1), stride=(1, 1), bias=False)\n",
      "      (bn1): BatchNorm2d(256, eps=1e-05, momentum=0.1, affine=True, track_running_stats=True)\n",
      "      (conv2): Conv2d(256, 256, kernel_size=(3, 3), stride=(1, 1), padding=(1, 1), bias=False)\n",
      "      (bn2): BatchNorm2d(256, eps=1e-05, momentum=0.1, affine=True, track_running_stats=True)\n",
      "      (conv3): Conv2d(256, 1024, kernel_size=(1, 1), stride=(1, 1), bias=False)\n",
      "      (bn3): BatchNorm2d(1024, eps=1e-05, momentum=0.1, affine=True, track_running_stats=True)\n",
      "      (relu): ReLU(inplace=True)\n",
      "    )\n",
      "    (2): Bottleneck(\n",
      "      (conv1): Conv2d(1024, 256, kernel_size=(1, 1), stride=(1, 1), bias=False)\n",
      "      (bn1): BatchNorm2d(256, eps=1e-05, momentum=0.1, affine=True, track_running_stats=True)\n",
      "      (conv2): Conv2d(256, 256, kernel_size=(3, 3), stride=(1, 1), padding=(1, 1), bias=False)\n",
      "      (bn2): BatchNorm2d(256, eps=1e-05, momentum=0.1, affine=True, track_running_stats=True)\n",
      "      (conv3): Conv2d(256, 1024, kernel_size=(1, 1), stride=(1, 1), bias=False)\n",
      "      (bn3): BatchNorm2d(1024, eps=1e-05, momentum=0.1, affine=True, track_running_stats=True)\n",
      "      (relu): ReLU(inplace=True)\n",
      "    )\n",
      "    (3): Bottleneck(\n",
      "      (conv1): Conv2d(1024, 256, kernel_size=(1, 1), stride=(1, 1), bias=False)\n",
      "      (bn1): BatchNorm2d(256, eps=1e-05, momentum=0.1, affine=True, track_running_stats=True)\n",
      "      (conv2): Conv2d(256, 256, kernel_size=(3, 3), stride=(1, 1), padding=(1, 1), bias=False)\n",
      "      (bn2): BatchNorm2d(256, eps=1e-05, momentum=0.1, affine=True, track_running_stats=True)\n",
      "      (conv3): Conv2d(256, 1024, kernel_size=(1, 1), stride=(1, 1), bias=False)\n",
      "      (bn3): BatchNorm2d(1024, eps=1e-05, momentum=0.1, affine=True, track_running_stats=True)\n",
      "      (relu): ReLU(inplace=True)\n",
      "    )\n",
      "    (4): Bottleneck(\n",
      "      (conv1): Conv2d(1024, 256, kernel_size=(1, 1), stride=(1, 1), bias=False)\n",
      "      (bn1): BatchNorm2d(256, eps=1e-05, momentum=0.1, affine=True, track_running_stats=True)\n",
      "      (conv2): Conv2d(256, 256, kernel_size=(3, 3), stride=(1, 1), padding=(1, 1), bias=False)\n",
      "      (bn2): BatchNorm2d(256, eps=1e-05, momentum=0.1, affine=True, track_running_stats=True)\n",
      "      (conv3): Conv2d(256, 1024, kernel_size=(1, 1), stride=(1, 1), bias=False)\n",
      "      (bn3): BatchNorm2d(1024, eps=1e-05, momentum=0.1, affine=True, track_running_stats=True)\n",
      "      (relu): ReLU(inplace=True)\n",
      "    )\n",
      "    (5): Bottleneck(\n",
      "      (conv1): Conv2d(1024, 256, kernel_size=(1, 1), stride=(1, 1), bias=False)\n",
      "      (bn1): BatchNorm2d(256, eps=1e-05, momentum=0.1, affine=True, track_running_stats=True)\n",
      "      (conv2): Conv2d(256, 256, kernel_size=(3, 3), stride=(1, 1), padding=(1, 1), bias=False)\n",
      "      (bn2): BatchNorm2d(256, eps=1e-05, momentum=0.1, affine=True, track_running_stats=True)\n",
      "      (conv3): Conv2d(256, 1024, kernel_size=(1, 1), stride=(1, 1), bias=False)\n",
      "      (bn3): BatchNorm2d(1024, eps=1e-05, momentum=0.1, affine=True, track_running_stats=True)\n",
      "      (relu): ReLU(inplace=True)\n",
      "    )\n",
      "  )\n",
      "  (layer4): Sequential(\n",
      "    (0): Bottleneck(\n",
      "      (conv1): Conv2d(1024, 512, kernel_size=(1, 1), stride=(1, 1), bias=False)\n",
      "      (bn1): BatchNorm2d(512, eps=1e-05, momentum=0.1, affine=True, track_running_stats=True)\n",
      "      (conv2): Conv2d(512, 512, kernel_size=(3, 3), stride=(2, 2), padding=(1, 1), bias=False)\n",
      "      (bn2): BatchNorm2d(512, eps=1e-05, momentum=0.1, affine=True, track_running_stats=True)\n",
      "      (conv3): Conv2d(512, 2048, kernel_size=(1, 1), stride=(1, 1), bias=False)\n",
      "      (bn3): BatchNorm2d(2048, eps=1e-05, momentum=0.1, affine=True, track_running_stats=True)\n",
      "      (relu): ReLU(inplace=True)\n",
      "      (downsample): Sequential(\n",
      "        (0): Conv2d(1024, 2048, kernel_size=(1, 1), stride=(2, 2), bias=False)\n",
      "        (1): BatchNorm2d(2048, eps=1e-05, momentum=0.1, affine=True, track_running_stats=True)\n",
      "      )\n",
      "    )\n",
      "    (1): Bottleneck(\n",
      "      (conv1): Conv2d(2048, 512, kernel_size=(1, 1), stride=(1, 1), bias=False)\n",
      "      (bn1): BatchNorm2d(512, eps=1e-05, momentum=0.1, affine=True, track_running_stats=True)\n",
      "      (conv2): Conv2d(512, 512, kernel_size=(3, 3), stride=(1, 1), padding=(1, 1), bias=False)\n",
      "      (bn2): BatchNorm2d(512, eps=1e-05, momentum=0.1, affine=True, track_running_stats=True)\n",
      "      (conv3): Conv2d(512, 2048, kernel_size=(1, 1), stride=(1, 1), bias=False)\n",
      "      (bn3): BatchNorm2d(2048, eps=1e-05, momentum=0.1, affine=True, track_running_stats=True)\n",
      "      (relu): ReLU(inplace=True)\n",
      "    )\n",
      "    (2): Bottleneck(\n",
      "      (conv1): Conv2d(2048, 512, kernel_size=(1, 1), stride=(1, 1), bias=False)\n",
      "      (bn1): BatchNorm2d(512, eps=1e-05, momentum=0.1, affine=True, track_running_stats=True)\n",
      "      (conv2): Conv2d(512, 512, kernel_size=(3, 3), stride=(1, 1), padding=(1, 1), bias=False)\n",
      "      (bn2): BatchNorm2d(512, eps=1e-05, momentum=0.1, affine=True, track_running_stats=True)\n",
      "      (conv3): Conv2d(512, 2048, kernel_size=(1, 1), stride=(1, 1), bias=False)\n",
      "      (bn3): BatchNorm2d(2048, eps=1e-05, momentum=0.1, affine=True, track_running_stats=True)\n",
      "      (relu): ReLU(inplace=True)\n",
      "    )\n",
      "  )\n",
      "  (avgpool): AdaptiveAvgPool2d(output_size=(1, 1))\n",
      "  (fc): Linear(in_features=2048, out_features=10, bias=True)\n",
      ")\n"
     ]
    }
   ],
   "source": [
    "print(model)"
   ]
  },
  {
   "cell_type": "code",
   "execution_count": 7,
   "id": "51af1aea-94ef-42fb-95bc-13aff4f66a26",
   "metadata": {},
   "outputs": [],
   "source": [
    "criterion = nn.CrossEntropyLoss()\n",
    "\n",
    "optimizer = torch.optim.SGD(model.parameters(), LR,\n",
    "                            momentum=MOMENTUM,\n",
    "                            weight_decay=WEIGHT_DECAY, nesterov=True)\n",
    "scheduler = torch.optim.lr_scheduler.CosineAnnealingLR(optimizer, T_max = EPOCHS)"
   ]
  },
  {
   "cell_type": "code",
   "execution_count": 8,
   "id": "0312c450-58c5-42da-86ba-221c968c4856",
   "metadata": {},
   "outputs": [],
   "source": [
    "def trainEpoch(device, model, loader, optimizer, criterion):\n",
    "    loop = tqdm(loader)\n",
    "    model.train()\n",
    "\n",
    "    losses = []\n",
    "    correct = 0\n",
    "    total = 0\n",
    "    for batch_id, (images, labels) in enumerate(loop):\n",
    "        images, labels = images.to(device), labels.to(device)\n",
    "        model = model.to(device)\n",
    "       \n",
    "        outputs = model(images)\n",
    "\n",
    "        _, predicted = torch.max(outputs, 1)\n",
    "        total += labels.size(0)\n",
    "        correct += (predicted==labels).sum().item()\n",
    "\n",
    "        loss = criterion(outputs, labels)\n",
    "        losses.append(loss.item())\n",
    "\n",
    "\n",
    "        optimizer.zero_grad()\n",
    "        loss.backward()\n",
    "        optimizer.step()\n",
    "        loop.set_postfix(train_loss=loss.item(), train_accuracy=(100*correct/total))\n",
    "\n",
    "    return np.mean(losses), 100*correct/total\n",
    "\n",
    "\n",
    "def testEpoch(device, model, loader, criterion):\n",
    "    \n",
    "    model.eval()\n",
    "    with torch.no_grad():\n",
    "        losses = []\n",
    "        correct = 0\n",
    "        total = 0\n",
    "        loop = tqdm(loader)\n",
    "        for batch_id, (images, labels) in enumerate(loop):\n",
    "            images, labels = images.to(device), labels.to(device)\n",
    "            model = model.to(device)\n",
    "        \n",
    "            outputs = model(images)\n",
    "\n",
    "            _, predicted = torch.max(outputs, 1)\n",
    "            total += labels.size(0)\n",
    "            correct += (predicted==labels).sum().item()\n",
    "\n",
    "            loss = criterion(outputs, labels)\n",
    "            losses.append(loss.item())\n",
    "\n",
    "            loop.set_postfix(test_loss=loss.item(), test_accuracy=(100*correct/total))\n",
    "\n",
    "        return np.mean(losses), 100*correct/total"
   ]
  },
  {
   "cell_type": "code",
   "execution_count": 9,
   "id": "1232e7a1-985f-48af-ab1f-0cb109eaa83a",
   "metadata": {},
   "outputs": [
    {
     "name": "stderr",
     "output_type": "stream",
     "text": [
      "100%|██████████| 3125/3125 [05:04<00:00, 10.26it/s, train_accuracy=89, train_loss=0.272]    \n",
      "100%|██████████| 625/625 [00:20<00:00, 29.92it/s, test_accuracy=94.5, test_loss=0.405]  \n"
     ]
    },
    {
     "name": "stdout",
     "output_type": "stream",
     "text": [
      "Saving new Best Model!\n",
      "Epoch-1 Train Loss: 0.3340 Train Accuracy: 89.0040\n",
      "Epoch-1 Test Loss: 0.1604 Test Accuracy: 94.5500\n"
     ]
    },
    {
     "name": "stderr",
     "output_type": "stream",
     "text": [
      "100%|██████████| 3125/3125 [04:54<00:00, 10.62it/s, train_accuracy=95, train_loss=0.0291]   \n",
      "100%|██████████| 625/625 [00:20<00:00, 29.80it/s, test_accuracy=95.5, test_loss=0.00394]\n"
     ]
    },
    {
     "name": "stdout",
     "output_type": "stream",
     "text": [
      "Saving new Best Model!\n",
      "Epoch-2 Train Loss: 0.1513 Train Accuracy: 94.9600\n",
      "Epoch-2 Test Loss: 0.1335 Test Accuracy: 95.4900\n"
     ]
    },
    {
     "name": "stderr",
     "output_type": "stream",
     "text": [
      "100%|██████████| 3125/3125 [04:54<00:00, 10.63it/s, train_accuracy=96.7, train_loss=0.00853] \n",
      "100%|██████████| 625/625 [00:20<00:00, 30.05it/s, test_accuracy=96, test_loss=0.0239]    \n"
     ]
    },
    {
     "name": "stdout",
     "output_type": "stream",
     "text": [
      "Saving new Best Model!\n",
      "Epoch-3 Train Loss: 0.0980 Train Accuracy: 96.7080\n",
      "Epoch-3 Test Loss: 0.1273 Test Accuracy: 95.9700\n"
     ]
    },
    {
     "name": "stderr",
     "output_type": "stream",
     "text": [
      "100%|██████████| 3125/3125 [05:03<00:00, 10.31it/s, train_accuracy=97.5, train_loss=0.00789] \n",
      "100%|██████████| 625/625 [00:21<00:00, 29.50it/s, test_accuracy=95.7, test_loss=0.0294]  \n"
     ]
    },
    {
     "name": "stdout",
     "output_type": "stream",
     "text": [
      "Epoch-4 Train Loss: 0.0735 Train Accuracy: 97.5220\n",
      "Epoch-4 Test Loss: 0.1313 Test Accuracy: 95.7400\n"
     ]
    },
    {
     "name": "stderr",
     "output_type": "stream",
     "text": [
      "100%|██████████| 3125/3125 [04:53<00:00, 10.64it/s, train_accuracy=98.1, train_loss=0.0806]  \n",
      "100%|██████████| 625/625 [00:20<00:00, 29.87it/s, test_accuracy=96.2, test_loss=0.0569]  \n"
     ]
    },
    {
     "name": "stdout",
     "output_type": "stream",
     "text": [
      "Saving new Best Model!\n",
      "Epoch-5 Train Loss: 0.0547 Train Accuracy: 98.1140\n",
      "Epoch-5 Test Loss: 0.1192 Test Accuracy: 96.2200\n"
     ]
    },
    {
     "name": "stderr",
     "output_type": "stream",
     "text": [
      "100%|██████████| 3125/3125 [05:02<00:00, 10.32it/s, train_accuracy=98.6, train_loss=0.00604] \n",
      "100%|██████████| 625/625 [00:21<00:00, 29.70it/s, test_accuracy=96, test_loss=0.352]     \n"
     ]
    },
    {
     "name": "stdout",
     "output_type": "stream",
     "text": [
      "Epoch-6 Train Loss: 0.0413 Train Accuracy: 98.6440\n",
      "Epoch-6 Test Loss: 0.1378 Test Accuracy: 95.9900\n"
     ]
    },
    {
     "name": "stderr",
     "output_type": "stream",
     "text": [
      "100%|██████████| 3125/3125 [04:53<00:00, 10.65it/s, train_accuracy=98.9, train_loss=0.00423] \n",
      "100%|██████████| 625/625 [00:21<00:00, 29.70it/s, test_accuracy=96.6, test_loss=0.0107]  \n"
     ]
    },
    {
     "name": "stdout",
     "output_type": "stream",
     "text": [
      "Saving new Best Model!\n",
      "Epoch-7 Train Loss: 0.0343 Train Accuracy: 98.9180\n",
      "Epoch-7 Test Loss: 0.1156 Test Accuracy: 96.6300\n"
     ]
    },
    {
     "name": "stderr",
     "output_type": "stream",
     "text": [
      "100%|██████████| 3125/3125 [05:02<00:00, 10.32it/s, train_accuracy=99.1, train_loss=0.143]   \n",
      "100%|██████████| 625/625 [00:19<00:00, 32.86it/s, test_accuracy=96.6, test_loss=0.107]   \n"
     ]
    },
    {
     "name": "stdout",
     "output_type": "stream",
     "text": [
      "Epoch-8 Train Loss: 0.0272 Train Accuracy: 99.0960\n",
      "Epoch-8 Test Loss: 0.1238 Test Accuracy: 96.5800\n"
     ]
    },
    {
     "name": "stderr",
     "output_type": "stream",
     "text": [
      "100%|██████████| 3125/3125 [04:56<00:00, 10.52it/s, train_accuracy=99.3, train_loss=0.00112] \n",
      "100%|██████████| 625/625 [00:20<00:00, 29.79it/s, test_accuracy=96.5, test_loss=0.5]     \n"
     ]
    },
    {
     "name": "stdout",
     "output_type": "stream",
     "text": [
      "Epoch-9 Train Loss: 0.0225 Train Accuracy: 99.2660\n",
      "Epoch-9 Test Loss: 0.1213 Test Accuracy: 96.4700\n"
     ]
    },
    {
     "name": "stderr",
     "output_type": "stream",
     "text": [
      "100%|██████████| 3125/3125 [04:54<00:00, 10.62it/s, train_accuracy=99.3, train_loss=0.0115]  \n",
      "100%|██████████| 625/625 [00:21<00:00, 29.75it/s, test_accuracy=96.2, test_loss=0.0201]  \n"
     ]
    },
    {
     "name": "stdout",
     "output_type": "stream",
     "text": [
      "Epoch-10 Train Loss: 0.0215 Train Accuracy: 99.3140\n",
      "Epoch-10 Test Loss: 0.1365 Test Accuracy: 96.2300\n"
     ]
    },
    {
     "name": "stderr",
     "output_type": "stream",
     "text": [
      "100%|██████████| 3125/3125 [05:03<00:00, 10.30it/s, train_accuracy=99.5, train_loss=8.36e-5] \n",
      "100%|██████████| 625/625 [00:21<00:00, 29.62it/s, test_accuracy=96.6, test_loss=0.0025]  \n"
     ]
    },
    {
     "name": "stdout",
     "output_type": "stream",
     "text": [
      "Saving new Best Model!\n",
      "Epoch-11 Train Loss: 0.0172 Train Accuracy: 99.4700\n",
      "Epoch-11 Test Loss: 0.1190 Test Accuracy: 96.6400\n"
     ]
    },
    {
     "name": "stderr",
     "output_type": "stream",
     "text": [
      "100%|██████████| 3125/3125 [04:54<00:00, 10.62it/s, train_accuracy=99.6, train_loss=0.000466]\n",
      "100%|██████████| 625/625 [00:20<00:00, 29.81it/s, test_accuracy=96.6, test_loss=0.0131]  \n"
     ]
    },
    {
     "name": "stdout",
     "output_type": "stream",
     "text": [
      "Epoch-12 Train Loss: 0.0122 Train Accuracy: 99.6000\n",
      "Epoch-12 Test Loss: 0.1273 Test Accuracy: 96.6100\n"
     ]
    },
    {
     "name": "stderr",
     "output_type": "stream",
     "text": [
      "100%|██████████| 3125/3125 [05:02<00:00, 10.32it/s, train_accuracy=99.7, train_loss=0.0006]  \n",
      "100%|██████████| 625/625 [00:21<00:00, 29.66it/s, test_accuracy=96.6, test_loss=0.366]   \n"
     ]
    },
    {
     "name": "stdout",
     "output_type": "stream",
     "text": [
      "Epoch-13 Train Loss: 0.0105 Train Accuracy: 99.6640\n",
      "Epoch-13 Test Loss: 0.1307 Test Accuracy: 96.5800\n"
     ]
    },
    {
     "name": "stderr",
     "output_type": "stream",
     "text": [
      "100%|██████████| 3125/3125 [04:54<00:00, 10.62it/s, train_accuracy=99.6, train_loss=0.00507] \n",
      "100%|██████████| 625/625 [00:21<00:00, 29.69it/s, test_accuracy=96.9, test_loss=0.00365] \n"
     ]
    },
    {
     "name": "stdout",
     "output_type": "stream",
     "text": [
      "Saving new Best Model!\n",
      "Epoch-14 Train Loss: 0.0119 Train Accuracy: 99.6420\n",
      "Epoch-14 Test Loss: 0.1214 Test Accuracy: 96.8900\n"
     ]
    },
    {
     "name": "stderr",
     "output_type": "stream",
     "text": [
      "100%|██████████| 3125/3125 [04:59<00:00, 10.42it/s, train_accuracy=99.7, train_loss=0.0304]  \n",
      "100%|██████████| 625/625 [00:19<00:00, 32.79it/s, test_accuracy=96.9, test_loss=0.383]   \n"
     ]
    },
    {
     "name": "stdout",
     "output_type": "stream",
     "text": [
      "Saving new Best Model!\n",
      "Epoch-15 Train Loss: 0.0104 Train Accuracy: 99.6840\n",
      "Epoch-15 Test Loss: 0.1147 Test Accuracy: 96.9200\n"
     ]
    },
    {
     "name": "stderr",
     "output_type": "stream",
     "text": [
      "100%|██████████| 3125/3125 [05:01<00:00, 10.37it/s, train_accuracy=99.8, train_loss=0.000138]\n",
      "100%|██████████| 625/625 [00:20<00:00, 29.84it/s, test_accuracy=97, test_loss=0.0126]    \n"
     ]
    },
    {
     "name": "stdout",
     "output_type": "stream",
     "text": [
      "Saving new Best Model!\n",
      "Epoch-16 Train Loss: 0.0057 Train Accuracy: 99.8460\n",
      "Epoch-16 Test Loss: 0.1125 Test Accuracy: 96.9700\n"
     ]
    },
    {
     "name": "stderr",
     "output_type": "stream",
     "text": [
      "100%|██████████| 3125/3125 [04:54<00:00, 10.63it/s, train_accuracy=99.8, train_loss=0.000692]\n",
      "100%|██████████| 625/625 [00:21<00:00, 29.40it/s, test_accuracy=96.9, test_loss=0.0253]  \n"
     ]
    },
    {
     "name": "stdout",
     "output_type": "stream",
     "text": [
      "Epoch-17 Train Loss: 0.0077 Train Accuracy: 99.7680\n",
      "Epoch-17 Test Loss: 0.1200 Test Accuracy: 96.8700\n"
     ]
    },
    {
     "name": "stderr",
     "output_type": "stream",
     "text": [
      "100%|██████████| 3125/3125 [05:02<00:00, 10.32it/s, train_accuracy=99.9, train_loss=0.000205]\n",
      "100%|██████████| 625/625 [00:21<00:00, 29.55it/s, test_accuracy=96.8, test_loss=0.0347]  \n"
     ]
    },
    {
     "name": "stdout",
     "output_type": "stream",
     "text": [
      "Epoch-18 Train Loss: 0.0051 Train Accuracy: 99.8580\n",
      "Epoch-18 Test Loss: 0.1238 Test Accuracy: 96.8300\n"
     ]
    },
    {
     "name": "stderr",
     "output_type": "stream",
     "text": [
      "100%|██████████| 3125/3125 [04:52<00:00, 10.67it/s, train_accuracy=99.8, train_loss=0.000892]\n",
      "100%|██████████| 625/625 [00:20<00:00, 29.93it/s, test_accuracy=96.9, test_loss=0.139]   \n"
     ]
    },
    {
     "name": "stdout",
     "output_type": "stream",
     "text": [
      "Epoch-19 Train Loss: 0.0061 Train Accuracy: 99.8240\n",
      "Epoch-19 Test Loss: 0.1144 Test Accuracy: 96.8700\n"
     ]
    },
    {
     "name": "stderr",
     "output_type": "stream",
     "text": [
      "100%|██████████| 3125/3125 [05:02<00:00, 10.34it/s, train_accuracy=99.9, train_loss=0.00056] \n",
      "100%|██████████| 625/625 [00:21<00:00, 29.68it/s, test_accuracy=97, test_loss=0.000626]  \n"
     ]
    },
    {
     "name": "stdout",
     "output_type": "stream",
     "text": [
      "Saving new Best Model!\n",
      "Epoch-20 Train Loss: 0.0046 Train Accuracy: 99.8640\n",
      "Epoch-20 Test Loss: 0.1129 Test Accuracy: 97.0300\n"
     ]
    },
    {
     "name": "stderr",
     "output_type": "stream",
     "text": [
      "100%|██████████| 3125/3125 [04:53<00:00, 10.65it/s, train_accuracy=99.9, train_loss=0.00126] \n",
      "100%|██████████| 625/625 [00:21<00:00, 29.58it/s, test_accuracy=96.8, test_loss=0.79]    \n"
     ]
    },
    {
     "name": "stdout",
     "output_type": "stream",
     "text": [
      "Epoch-21 Train Loss: 0.0040 Train Accuracy: 99.8920\n",
      "Epoch-21 Test Loss: 0.1255 Test Accuracy: 96.7500\n"
     ]
    },
    {
     "name": "stderr",
     "output_type": "stream",
     "text": [
      "100%|██████████| 3125/3125 [04:56<00:00, 10.55it/s, train_accuracy=99.9, train_loss=0.00055] \n",
      "100%|██████████| 625/625 [00:19<00:00, 31.73it/s, test_accuracy=97.5, test_loss=0.00026] \n"
     ]
    },
    {
     "name": "stdout",
     "output_type": "stream",
     "text": [
      "Saving new Best Model!\n",
      "Epoch-22 Train Loss: 0.0032 Train Accuracy: 99.9280\n",
      "Epoch-22 Test Loss: 0.1068 Test Accuracy: 97.5100\n"
     ]
    },
    {
     "name": "stderr",
     "output_type": "stream",
     "text": [
      "100%|██████████| 3125/3125 [05:02<00:00, 10.32it/s, train_accuracy=99.9, train_loss=0.00057] \n",
      "100%|██████████| 625/625 [00:21<00:00, 29.60it/s, test_accuracy=97.2, test_loss=0.00271] \n"
     ]
    },
    {
     "name": "stdout",
     "output_type": "stream",
     "text": [
      "Epoch-23 Train Loss: 0.0034 Train Accuracy: 99.8980\n",
      "Epoch-23 Test Loss: 0.1143 Test Accuracy: 97.2100\n"
     ]
    },
    {
     "name": "stderr",
     "output_type": "stream",
     "text": [
      "100%|██████████| 3125/3125 [04:53<00:00, 10.65it/s, train_accuracy=99.9, train_loss=0.000667]\n",
      "100%|██████████| 625/625 [00:20<00:00, 29.96it/s, test_accuracy=97, test_loss=0.00151]   \n"
     ]
    },
    {
     "name": "stdout",
     "output_type": "stream",
     "text": [
      "Epoch-24 Train Loss: 0.0047 Train Accuracy: 99.8660\n",
      "Epoch-24 Test Loss: 0.1141 Test Accuracy: 96.9800\n"
     ]
    },
    {
     "name": "stderr",
     "output_type": "stream",
     "text": [
      "100%|██████████| 3125/3125 [05:01<00:00, 10.35it/s, train_accuracy=99.9, train_loss=6.93e-5] \n",
      "100%|██████████| 625/625 [00:21<00:00, 29.74it/s, test_accuracy=97, test_loss=0.391]     \n"
     ]
    },
    {
     "name": "stdout",
     "output_type": "stream",
     "text": [
      "Epoch-25 Train Loss: 0.0033 Train Accuracy: 99.9060\n",
      "Epoch-25 Test Loss: 0.1122 Test Accuracy: 97.0300\n"
     ]
    },
    {
     "name": "stderr",
     "output_type": "stream",
     "text": [
      "100%|██████████| 3125/3125 [04:53<00:00, 10.63it/s, train_accuracy=99.9, train_loss=0.000227]\n",
      "100%|██████████| 625/625 [00:21<00:00, 29.67it/s, test_accuracy=97, test_loss=0.0398]    \n"
     ]
    },
    {
     "name": "stdout",
     "output_type": "stream",
     "text": [
      "Epoch-26 Train Loss: 0.0030 Train Accuracy: 99.9300\n",
      "Epoch-26 Test Loss: 0.1134 Test Accuracy: 97.0300\n"
     ]
    },
    {
     "name": "stderr",
     "output_type": "stream",
     "text": [
      "100%|██████████| 3125/3125 [05:02<00:00, 10.35it/s, train_accuracy=99.9, train_loss=2.44e-5] \n",
      "100%|██████████| 625/625 [00:20<00:00, 29.85it/s, test_accuracy=97.1, test_loss=0.16]    \n"
     ]
    },
    {
     "name": "stdout",
     "output_type": "stream",
     "text": [
      "Epoch-27 Train Loss: 0.0028 Train Accuracy: 99.9320\n",
      "Epoch-27 Test Loss: 0.1069 Test Accuracy: 97.1100\n"
     ]
    },
    {
     "name": "stderr",
     "output_type": "stream",
     "text": [
      "100%|██████████| 3125/3125 [03:15<00:00, 16.02it/s, train_accuracy=100, train_loss=0.000676] \n",
      "100%|██████████| 625/625 [00:12<00:00, 49.32it/s, test_accuracy=97.2, test_loss=0.0103]  \n"
     ]
    },
    {
     "name": "stdout",
     "output_type": "stream",
     "text": [
      "Epoch-28 Train Loss: 0.0017 Train Accuracy: 99.9620\n",
      "Epoch-28 Test Loss: 0.1086 Test Accuracy: 97.2100\n"
     ]
    },
    {
     "name": "stderr",
     "output_type": "stream",
     "text": [
      "100%|██████████| 3125/3125 [02:59<00:00, 17.45it/s, train_accuracy=100, train_loss=1.23e-5] \n",
      "100%|██████████| 625/625 [00:13<00:00, 47.61it/s, test_accuracy=97.3, test_loss=0.000153]\n"
     ]
    },
    {
     "name": "stdout",
     "output_type": "stream",
     "text": [
      "Epoch-29 Train Loss: 0.0014 Train Accuracy: 99.9780\n",
      "Epoch-29 Test Loss: 0.1080 Test Accuracy: 97.2600\n"
     ]
    },
    {
     "name": "stderr",
     "output_type": "stream",
     "text": [
      "100%|██████████| 3125/3125 [02:59<00:00, 17.45it/s, train_accuracy=100, train_loss=4.61e-5]  \n",
      "100%|██████████| 625/625 [00:12<00:00, 48.77it/s, test_accuracy=97.2, test_loss=8.92e-5] \n"
     ]
    },
    {
     "name": "stdout",
     "output_type": "stream",
     "text": [
      "Epoch-30 Train Loss: 0.0018 Train Accuracy: 99.9520\n",
      "Epoch-30 Test Loss: 0.1065 Test Accuracy: 97.2000\n"
     ]
    },
    {
     "name": "stderr",
     "output_type": "stream",
     "text": [
      "100%|██████████| 3125/3125 [02:58<00:00, 17.47it/s, train_accuracy=100, train_loss=2.86e-5] \n",
      "100%|██████████| 625/625 [00:12<00:00, 48.69it/s, test_accuracy=97.4, test_loss=0.539]   \n"
     ]
    },
    {
     "name": "stdout",
     "output_type": "stream",
     "text": [
      "Epoch-31 Train Loss: 0.0015 Train Accuracy: 99.9740\n",
      "Epoch-31 Test Loss: 0.0965 Test Accuracy: 97.3900\n"
     ]
    },
    {
     "name": "stderr",
     "output_type": "stream",
     "text": [
      "100%|██████████| 3125/3125 [02:58<00:00, 17.47it/s, train_accuracy=100, train_loss=4.92e-5] \n",
      "100%|██████████| 625/625 [00:12<00:00, 49.42it/s, test_accuracy=97.4, test_loss=0.417]   \n"
     ]
    },
    {
     "name": "stdout",
     "output_type": "stream",
     "text": [
      "Epoch-32 Train Loss: 0.0009 Train Accuracy: 99.9840\n",
      "Epoch-32 Test Loss: 0.1041 Test Accuracy: 97.3600\n"
     ]
    },
    {
     "name": "stderr",
     "output_type": "stream",
     "text": [
      "100%|██████████| 3125/3125 [02:58<00:00, 17.48it/s, train_accuracy=100, train_loss=5.42e-5] \n",
      "100%|██████████| 625/625 [00:12<00:00, 49.97it/s, test_accuracy=97.3, test_loss=1.39e-5] \n"
     ]
    },
    {
     "name": "stdout",
     "output_type": "stream",
     "text": [
      "Epoch-33 Train Loss: 0.0011 Train Accuracy: 99.9720\n",
      "Epoch-33 Test Loss: 0.1056 Test Accuracy: 97.2700\n"
     ]
    },
    {
     "name": "stderr",
     "output_type": "stream",
     "text": [
      "100%|██████████| 3125/3125 [02:58<00:00, 17.50it/s, train_accuracy=100, train_loss=5.17e-5] \n",
      "100%|██████████| 625/625 [00:12<00:00, 48.97it/s, test_accuracy=97.5, test_loss=3.62e-5] \n"
     ]
    },
    {
     "name": "stdout",
     "output_type": "stream",
     "text": [
      "Epoch-34 Train Loss: 0.0008 Train Accuracy: 99.9880\n",
      "Epoch-34 Test Loss: 0.1023 Test Accuracy: 97.4600\n"
     ]
    },
    {
     "name": "stderr",
     "output_type": "stream",
     "text": [
      "100%|██████████| 3125/3125 [02:59<00:00, 17.43it/s, train_accuracy=100, train_loss=3.66e-5] \n",
      "100%|██████████| 625/625 [00:12<00:00, 49.15it/s, test_accuracy=97.4, test_loss=0.00354] \n"
     ]
    },
    {
     "name": "stdout",
     "output_type": "stream",
     "text": [
      "Epoch-35 Train Loss: 0.0009 Train Accuracy: 99.9760\n",
      "Epoch-35 Test Loss: 0.1032 Test Accuracy: 97.3600\n"
     ]
    },
    {
     "name": "stderr",
     "output_type": "stream",
     "text": [
      "100%|██████████| 3125/3125 [02:58<00:00, 17.47it/s, train_accuracy=100, train_loss=4.14e-6] \n",
      "100%|██████████| 625/625 [00:12<00:00, 49.23it/s, test_accuracy=97.3, test_loss=0.039]   \n"
     ]
    },
    {
     "name": "stdout",
     "output_type": "stream",
     "text": [
      "Epoch-36 Train Loss: 0.0009 Train Accuracy: 99.9900\n",
      "Epoch-36 Test Loss: 0.1046 Test Accuracy: 97.3400\n"
     ]
    },
    {
     "name": "stderr",
     "output_type": "stream",
     "text": [
      "100%|██████████| 3125/3125 [02:58<00:00, 17.48it/s, train_accuracy=100, train_loss=0.000512]\n",
      "100%|██████████| 625/625 [00:12<00:00, 48.98it/s, test_accuracy=97.5, test_loss=0.0621]  \n"
     ]
    },
    {
     "name": "stdout",
     "output_type": "stream",
     "text": [
      "Epoch-37 Train Loss: 0.0008 Train Accuracy: 99.9880\n",
      "Epoch-37 Test Loss: 0.0960 Test Accuracy: 97.4800\n"
     ]
    },
    {
     "name": "stderr",
     "output_type": "stream",
     "text": [
      "100%|██████████| 3125/3125 [02:59<00:00, 17.46it/s, train_accuracy=100, train_loss=0.000259]\n",
      "100%|██████████| 625/625 [00:12<00:00, 48.20it/s, test_accuracy=97.5, test_loss=0.00018] \n"
     ]
    },
    {
     "name": "stdout",
     "output_type": "stream",
     "text": [
      "Epoch-38 Train Loss: 0.0007 Train Accuracy: 99.9900\n",
      "Epoch-38 Test Loss: 0.0985 Test Accuracy: 97.5000\n"
     ]
    },
    {
     "name": "stderr",
     "output_type": "stream",
     "text": [
      "100%|██████████| 3125/3125 [02:59<00:00, 17.45it/s, train_accuracy=100, train_loss=9.48e-5] \n",
      "100%|██████████| 625/625 [00:12<00:00, 48.52it/s, test_accuracy=97.6, test_loss=0.000471]\n"
     ]
    },
    {
     "name": "stdout",
     "output_type": "stream",
     "text": [
      "Saving new Best Model!\n",
      "Epoch-39 Train Loss: 0.0006 Train Accuracy: 99.9900\n",
      "Epoch-39 Test Loss: 0.0968 Test Accuracy: 97.5700\n"
     ]
    },
    {
     "name": "stderr",
     "output_type": "stream",
     "text": [
      "100%|██████████| 3125/3125 [02:58<00:00, 17.49it/s, train_accuracy=100, train_loss=4.12e-5] \n",
      "100%|██████████| 625/625 [00:12<00:00, 49.11it/s, test_accuracy=97.4, test_loss=0.00179] \n"
     ]
    },
    {
     "name": "stdout",
     "output_type": "stream",
     "text": [
      "Epoch-40 Train Loss: 0.0005 Train Accuracy: 99.9940\n",
      "Epoch-40 Test Loss: 0.1001 Test Accuracy: 97.4100\n"
     ]
    },
    {
     "name": "stderr",
     "output_type": "stream",
     "text": [
      "100%|██████████| 3125/3125 [02:59<00:00, 17.44it/s, train_accuracy=100, train_loss=5.36e-5] \n",
      "100%|██████████| 625/625 [00:12<00:00, 48.90it/s, test_accuracy=97.5, test_loss=0.144]   \n"
     ]
    },
    {
     "name": "stdout",
     "output_type": "stream",
     "text": [
      "Epoch-41 Train Loss: 0.0005 Train Accuracy: 99.9940\n",
      "Epoch-41 Test Loss: 0.0978 Test Accuracy: 97.5500\n"
     ]
    },
    {
     "name": "stderr",
     "output_type": "stream",
     "text": [
      "100%|██████████| 3125/3125 [02:59<00:00, 17.41it/s, train_accuracy=100, train_loss=0.000107]\n",
      "100%|██████████| 625/625 [00:13<00:00, 47.70it/s, test_accuracy=97.5, test_loss=0.131]   \n"
     ]
    },
    {
     "name": "stdout",
     "output_type": "stream",
     "text": [
      "Epoch-42 Train Loss: 0.0005 Train Accuracy: 99.9920\n",
      "Epoch-42 Test Loss: 0.0973 Test Accuracy: 97.5500\n"
     ]
    },
    {
     "name": "stderr",
     "output_type": "stream",
     "text": [
      "100%|██████████| 3125/3125 [02:58<00:00, 17.48it/s, train_accuracy=100, train_loss=1.15e-5] \n",
      "100%|██████████| 625/625 [00:12<00:00, 49.31it/s, test_accuracy=97.5, test_loss=0.33]    \n"
     ]
    },
    {
     "name": "stdout",
     "output_type": "stream",
     "text": [
      "Epoch-43 Train Loss: 0.0004 Train Accuracy: 99.9980\n",
      "Epoch-43 Test Loss: 0.0981 Test Accuracy: 97.4700\n"
     ]
    },
    {
     "name": "stderr",
     "output_type": "stream",
     "text": [
      "100%|██████████| 3125/3125 [02:58<00:00, 17.50it/s, train_accuracy=100, train_loss=2.36e-5] \n",
      "100%|██████████| 625/625 [00:12<00:00, 49.11it/s, test_accuracy=97.6, test_loss=0.00236] \n"
     ]
    },
    {
     "name": "stdout",
     "output_type": "stream",
     "text": [
      "Saving new Best Model!\n",
      "Epoch-44 Train Loss: 0.0003 Train Accuracy: 99.9980\n",
      "Epoch-44 Test Loss: 0.0949 Test Accuracy: 97.6200\n"
     ]
    },
    {
     "name": "stderr",
     "output_type": "stream",
     "text": [
      "100%|██████████| 3125/3125 [02:58<00:00, 17.47it/s, train_accuracy=100, train_loss=3.98e-5] \n",
      "100%|██████████| 625/625 [00:12<00:00, 49.19it/s, test_accuracy=97.4, test_loss=0.571]   \n"
     ]
    },
    {
     "name": "stdout",
     "output_type": "stream",
     "text": [
      "Epoch-45 Train Loss: 0.0005 Train Accuracy: 99.9920\n",
      "Epoch-45 Test Loss: 0.0983 Test Accuracy: 97.4400\n"
     ]
    },
    {
     "name": "stderr",
     "output_type": "stream",
     "text": [
      "100%|██████████| 3125/3125 [02:58<00:00, 17.47it/s, train_accuracy=100, train_loss=1.13e-5] \n",
      "100%|██████████| 625/625 [00:12<00:00, 49.40it/s, test_accuracy=97.4, test_loss=0.725]   \n"
     ]
    },
    {
     "name": "stdout",
     "output_type": "stream",
     "text": [
      "Epoch-46 Train Loss: 0.0006 Train Accuracy: 99.9880\n",
      "Epoch-46 Test Loss: 0.1055 Test Accuracy: 97.3700\n"
     ]
    },
    {
     "name": "stderr",
     "output_type": "stream",
     "text": [
      "100%|██████████| 3125/3125 [02:59<00:00, 17.45it/s, train_accuracy=100, train_loss=0.000114]\n",
      "100%|██████████| 625/625 [00:12<00:00, 49.09it/s, test_accuracy=97.6, test_loss=0.00297] \n"
     ]
    },
    {
     "name": "stdout",
     "output_type": "stream",
     "text": [
      "Epoch-47 Train Loss: 0.0003 Train Accuracy: 100.0000\n",
      "Epoch-47 Test Loss: 0.0962 Test Accuracy: 97.6000\n"
     ]
    },
    {
     "name": "stderr",
     "output_type": "stream",
     "text": [
      "100%|██████████| 3125/3125 [02:59<00:00, 17.46it/s, train_accuracy=100, train_loss=0.00014] \n",
      "100%|██████████| 625/625 [00:12<00:00, 49.16it/s, test_accuracy=97.6, test_loss=0.000354]\n"
     ]
    },
    {
     "name": "stdout",
     "output_type": "stream",
     "text": [
      "Epoch-48 Train Loss: 0.0004 Train Accuracy: 99.9900\n",
      "Epoch-48 Test Loss: 0.0961 Test Accuracy: 97.5700\n"
     ]
    },
    {
     "name": "stderr",
     "output_type": "stream",
     "text": [
      "100%|██████████| 3125/3125 [02:58<00:00, 17.49it/s, train_accuracy=100, train_loss=0.000368]\n",
      "100%|██████████| 625/625 [00:12<00:00, 49.15it/s, test_accuracy=97.7, test_loss=7.63e-5] \n"
     ]
    },
    {
     "name": "stdout",
     "output_type": "stream",
     "text": [
      "Saving new Best Model!\n",
      "Epoch-49 Train Loss: 0.0003 Train Accuracy: 99.9980\n",
      "Epoch-49 Test Loss: 0.0936 Test Accuracy: 97.6600\n"
     ]
    },
    {
     "name": "stderr",
     "output_type": "stream",
     "text": [
      "100%|██████████| 3125/3125 [02:59<00:00, 17.44it/s, train_accuracy=100, train_loss=4.64e-5] \n",
      "100%|██████████| 625/625 [00:12<00:00, 48.50it/s, test_accuracy=97.6, test_loss=0.00865] \n"
     ]
    },
    {
     "name": "stdout",
     "output_type": "stream",
     "text": [
      "Epoch-50 Train Loss: 0.0004 Train Accuracy: 99.9960\n",
      "Epoch-50 Test Loss: 0.0953 Test Accuracy: 97.5600\n"
     ]
    },
    {
     "name": "stderr",
     "output_type": "stream",
     "text": [
      "100%|██████████| 3125/3125 [02:59<00:00, 17.45it/s, train_accuracy=100, train_loss=5.68e-5] \n",
      "100%|██████████| 625/625 [00:12<00:00, 49.39it/s, test_accuracy=97.6, test_loss=0.000619]\n"
     ]
    },
    {
     "name": "stdout",
     "output_type": "stream",
     "text": [
      "Epoch-51 Train Loss: 0.0003 Train Accuracy: 99.9940\n",
      "Epoch-51 Test Loss: 0.0945 Test Accuracy: 97.5800\n"
     ]
    },
    {
     "name": "stderr",
     "output_type": "stream",
     "text": [
      "100%|██████████| 3125/3125 [02:58<00:00, 17.47it/s, train_accuracy=100, train_loss=9.27e-6] \n",
      "100%|██████████| 625/625 [00:12<00:00, 48.79it/s, test_accuracy=97.5, test_loss=0.369]   \n"
     ]
    },
    {
     "name": "stdout",
     "output_type": "stream",
     "text": [
      "Epoch-52 Train Loss: 0.0003 Train Accuracy: 100.0000\n",
      "Epoch-52 Test Loss: 0.0975 Test Accuracy: 97.5100\n"
     ]
    },
    {
     "name": "stderr",
     "output_type": "stream",
     "text": [
      "100%|██████████| 3125/3125 [02:59<00:00, 17.44it/s, train_accuracy=100, train_loss=0.000155]\n",
      "100%|██████████| 625/625 [00:12<00:00, 49.03it/s, test_accuracy=97.4, test_loss=3.56e-5] \n"
     ]
    },
    {
     "name": "stdout",
     "output_type": "stream",
     "text": [
      "Epoch-53 Train Loss: 0.0003 Train Accuracy: 100.0000\n",
      "Epoch-53 Test Loss: 0.0993 Test Accuracy: 97.4200\n"
     ]
    },
    {
     "name": "stderr",
     "output_type": "stream",
     "text": [
      "100%|██████████| 3125/3125 [02:59<00:00, 17.44it/s, train_accuracy=100, train_loss=7.34e-6] \n",
      "100%|██████████| 625/625 [00:12<00:00, 49.05it/s, test_accuracy=97.5, test_loss=0.00434] \n"
     ]
    },
    {
     "name": "stdout",
     "output_type": "stream",
     "text": [
      "Epoch-54 Train Loss: 0.0003 Train Accuracy: 99.9960\n",
      "Epoch-54 Test Loss: 0.0981 Test Accuracy: 97.5000\n"
     ]
    },
    {
     "name": "stderr",
     "output_type": "stream",
     "text": [
      "100%|██████████| 3125/3125 [02:58<00:00, 17.54it/s, train_accuracy=100, train_loss=0.000223]\n",
      "100%|██████████| 625/625 [00:12<00:00, 48.20it/s, test_accuracy=97.6, test_loss=0.189]   \n"
     ]
    },
    {
     "name": "stdout",
     "output_type": "stream",
     "text": [
      "Epoch-55 Train Loss: 0.0003 Train Accuracy: 99.9980\n",
      "Epoch-55 Test Loss: 0.0945 Test Accuracy: 97.6000\n"
     ]
    },
    {
     "name": "stderr",
     "output_type": "stream",
     "text": [
      "100%|██████████| 3125/3125 [02:58<00:00, 17.46it/s, train_accuracy=100, train_loss=0.000193]\n",
      "100%|██████████| 625/625 [00:12<00:00, 48.73it/s, test_accuracy=97.7, test_loss=0.000505]\n"
     ]
    },
    {
     "name": "stdout",
     "output_type": "stream",
     "text": [
      "Saving new Best Model!\n",
      "Epoch-56 Train Loss: 0.0003 Train Accuracy: 99.9960\n",
      "Epoch-56 Test Loss: 0.0939 Test Accuracy: 97.6600\n"
     ]
    },
    {
     "name": "stderr",
     "output_type": "stream",
     "text": [
      "100%|██████████| 3125/3125 [02:58<00:00, 17.47it/s, train_accuracy=100, train_loss=4.33e-5] \n",
      "100%|██████████| 625/625 [00:12<00:00, 48.97it/s, test_accuracy=97.5, test_loss=0.00252] \n"
     ]
    },
    {
     "name": "stdout",
     "output_type": "stream",
     "text": [
      "Epoch-57 Train Loss: 0.0003 Train Accuracy: 99.9980\n",
      "Epoch-57 Test Loss: 0.0964 Test Accuracy: 97.5500\n"
     ]
    },
    {
     "name": "stderr",
     "output_type": "stream",
     "text": [
      "100%|██████████| 3125/3125 [02:59<00:00, 17.46it/s, train_accuracy=100, train_loss=9.15e-5] \n",
      "100%|██████████| 625/625 [00:12<00:00, 49.56it/s, test_accuracy=97.7, test_loss=0.0159]  \n"
     ]
    },
    {
     "name": "stdout",
     "output_type": "stream",
     "text": [
      "Saving new Best Model!\n",
      "Epoch-58 Train Loss: 0.0003 Train Accuracy: 99.9980\n",
      "Epoch-58 Test Loss: 0.0938 Test Accuracy: 97.6600\n"
     ]
    },
    {
     "name": "stderr",
     "output_type": "stream",
     "text": [
      "100%|██████████| 3125/3125 [02:58<00:00, 17.47it/s, train_accuracy=100, train_loss=1.47e-5] \n",
      "100%|██████████| 625/625 [00:12<00:00, 49.04it/s, test_accuracy=97.5, test_loss=0.00188] \n"
     ]
    },
    {
     "name": "stdout",
     "output_type": "stream",
     "text": [
      "Epoch-59 Train Loss: 0.0002 Train Accuracy: 99.9980\n",
      "Epoch-59 Test Loss: 0.0977 Test Accuracy: 97.5300\n"
     ]
    },
    {
     "name": "stderr",
     "output_type": "stream",
     "text": [
      "100%|██████████| 3125/3125 [02:58<00:00, 17.50it/s, train_accuracy=100, train_loss=6.61e-6] \n",
      "100%|██████████| 625/625 [00:12<00:00, 49.36it/s, test_accuracy=97.6, test_loss=3.01e-5] \n"
     ]
    },
    {
     "name": "stdout",
     "output_type": "stream",
     "text": [
      "Epoch-60 Train Loss: 0.0004 Train Accuracy: 99.9920\n",
      "Epoch-60 Test Loss: 0.0930 Test Accuracy: 97.6300\n"
     ]
    },
    {
     "name": "stderr",
     "output_type": "stream",
     "text": [
      "100%|██████████| 3125/3125 [02:59<00:00, 17.42it/s, train_accuracy=100, train_loss=1.14e-5] \n",
      "100%|██████████| 625/625 [00:12<00:00, 49.00it/s, test_accuracy=97.6, test_loss=0.101]   \n"
     ]
    },
    {
     "name": "stdout",
     "output_type": "stream",
     "text": [
      "Epoch-61 Train Loss: 0.0002 Train Accuracy: 100.0000\n",
      "Epoch-61 Test Loss: 0.0925 Test Accuracy: 97.6300\n"
     ]
    },
    {
     "name": "stderr",
     "output_type": "stream",
     "text": [
      "100%|██████████| 3125/3125 [02:59<00:00, 17.42it/s, train_accuracy=100, train_loss=5.21e-5] \n",
      "100%|██████████| 625/625 [00:12<00:00, 48.90it/s, test_accuracy=97.5, test_loss=0.00154] \n"
     ]
    },
    {
     "name": "stdout",
     "output_type": "stream",
     "text": [
      "Epoch-62 Train Loss: 0.0002 Train Accuracy: 99.9980\n",
      "Epoch-62 Test Loss: 0.0985 Test Accuracy: 97.5500\n"
     ]
    },
    {
     "name": "stderr",
     "output_type": "stream",
     "text": [
      "100%|██████████| 3125/3125 [02:59<00:00, 17.44it/s, train_accuracy=100, train_loss=3.51e-5] \n",
      "100%|██████████| 625/625 [00:12<00:00, 48.45it/s, test_accuracy=97.6, test_loss=0.485]   \n"
     ]
    },
    {
     "name": "stdout",
     "output_type": "stream",
     "text": [
      "Epoch-63 Train Loss: 0.0002 Train Accuracy: 100.0000\n",
      "Epoch-63 Test Loss: 0.0957 Test Accuracy: 97.5800\n"
     ]
    },
    {
     "name": "stderr",
     "output_type": "stream",
     "text": [
      "100%|██████████| 3125/3125 [02:59<00:00, 17.45it/s, train_accuracy=100, train_loss=8.28e-5] \n",
      "100%|██████████| 625/625 [00:12<00:00, 48.69it/s, test_accuracy=97.7, test_loss=0.0114]  \n"
     ]
    },
    {
     "name": "stdout",
     "output_type": "stream",
     "text": [
      "Saving new Best Model!\n",
      "Epoch-64 Train Loss: 0.0002 Train Accuracy: 100.0000\n",
      "Epoch-64 Test Loss: 0.0937 Test Accuracy: 97.6700\n"
     ]
    },
    {
     "name": "stderr",
     "output_type": "stream",
     "text": [
      "100%|██████████| 3125/3125 [02:58<00:00, 17.47it/s, train_accuracy=100, train_loss=3.12e-5] \n",
      "100%|██████████| 625/625 [00:12<00:00, 49.19it/s, test_accuracy=97.6, test_loss=6.66e-5] \n"
     ]
    },
    {
     "name": "stdout",
     "output_type": "stream",
     "text": [
      "Epoch-65 Train Loss: 0.0002 Train Accuracy: 100.0000\n",
      "Epoch-65 Test Loss: 0.0956 Test Accuracy: 97.6400\n"
     ]
    },
    {
     "name": "stderr",
     "output_type": "stream",
     "text": [
      "100%|██████████| 3125/3125 [02:58<00:00, 17.48it/s, train_accuracy=100, train_loss=3.49e-5] \n",
      "100%|██████████| 625/625 [00:12<00:00, 49.36it/s, test_accuracy=97.6, test_loss=0.367]   \n"
     ]
    },
    {
     "name": "stdout",
     "output_type": "stream",
     "text": [
      "Epoch-66 Train Loss: 0.0003 Train Accuracy: 99.9920\n",
      "Epoch-66 Test Loss: 0.0963 Test Accuracy: 97.5800\n"
     ]
    },
    {
     "name": "stderr",
     "output_type": "stream",
     "text": [
      "100%|██████████| 3125/3125 [02:58<00:00, 17.52it/s, train_accuracy=100, train_loss=5.57e-5] \n",
      "100%|██████████| 625/625 [00:12<00:00, 49.29it/s, test_accuracy=97.6, test_loss=0.00105] \n"
     ]
    },
    {
     "name": "stdout",
     "output_type": "stream",
     "text": [
      "Epoch-67 Train Loss: 0.0003 Train Accuracy: 99.9960\n",
      "Epoch-67 Test Loss: 0.0931 Test Accuracy: 97.5800\n"
     ]
    },
    {
     "name": "stderr",
     "output_type": "stream",
     "text": [
      "100%|██████████| 3125/3125 [02:58<00:00, 17.48it/s, train_accuracy=100, train_loss=7.87e-5] \n",
      "100%|██████████| 625/625 [00:12<00:00, 48.83it/s, test_accuracy=97.6, test_loss=0.0147]  \n"
     ]
    },
    {
     "name": "stdout",
     "output_type": "stream",
     "text": [
      "Epoch-68 Train Loss: 0.0002 Train Accuracy: 99.9980\n",
      "Epoch-68 Test Loss: 0.0945 Test Accuracy: 97.5800\n"
     ]
    },
    {
     "name": "stderr",
     "output_type": "stream",
     "text": [
      "100%|██████████| 3125/3125 [02:58<00:00, 17.48it/s, train_accuracy=100, train_loss=7.86e-5] \n",
      "100%|██████████| 625/625 [00:12<00:00, 48.98it/s, test_accuracy=97.5, test_loss=0.000801]\n"
     ]
    },
    {
     "name": "stdout",
     "output_type": "stream",
     "text": [
      "Epoch-69 Train Loss: 0.0003 Train Accuracy: 99.9980\n",
      "Epoch-69 Test Loss: 0.0937 Test Accuracy: 97.5400\n"
     ]
    },
    {
     "name": "stderr",
     "output_type": "stream",
     "text": [
      "100%|██████████| 3125/3125 [02:59<00:00, 17.44it/s, train_accuracy=100, train_loss=0.000155]\n",
      "100%|██████████| 625/625 [00:12<00:00, 48.93it/s, test_accuracy=97.6, test_loss=6.01e-6] \n"
     ]
    },
    {
     "name": "stdout",
     "output_type": "stream",
     "text": [
      "Epoch-70 Train Loss: 0.0002 Train Accuracy: 99.9980\n",
      "Epoch-70 Test Loss: 0.0930 Test Accuracy: 97.6300\n"
     ]
    },
    {
     "name": "stderr",
     "output_type": "stream",
     "text": [
      "100%|██████████| 3125/3125 [02:57<00:00, 17.58it/s, train_accuracy=100, train_loss=7.38e-5] \n",
      "100%|██████████| 625/625 [00:12<00:00, 49.16it/s, test_accuracy=97.6, test_loss=0.0558]  \n"
     ]
    },
    {
     "name": "stdout",
     "output_type": "stream",
     "text": [
      "Epoch-71 Train Loss: 0.0002 Train Accuracy: 100.0000\n",
      "Epoch-71 Test Loss: 0.0914 Test Accuracy: 97.6200\n"
     ]
    },
    {
     "name": "stderr",
     "output_type": "stream",
     "text": [
      "100%|██████████| 3125/3125 [02:57<00:00, 17.56it/s, train_accuracy=100, train_loss=9.51e-5] \n",
      "100%|██████████| 625/625 [00:12<00:00, 49.70it/s, test_accuracy=97.5, test_loss=0.188]   \n"
     ]
    },
    {
     "name": "stdout",
     "output_type": "stream",
     "text": [
      "Epoch-72 Train Loss: 0.0002 Train Accuracy: 100.0000\n",
      "Epoch-72 Test Loss: 0.0951 Test Accuracy: 97.5000\n"
     ]
    },
    {
     "name": "stderr",
     "output_type": "stream",
     "text": [
      "100%|██████████| 3125/3125 [02:57<00:00, 17.61it/s, train_accuracy=100, train_loss=0.000152]\n",
      "100%|██████████| 625/625 [00:12<00:00, 49.91it/s, test_accuracy=97.7, test_loss=0.0071]  \n"
     ]
    },
    {
     "name": "stdout",
     "output_type": "stream",
     "text": [
      "Saving new Best Model!\n",
      "Epoch-73 Train Loss: 0.0002 Train Accuracy: 100.0000\n",
      "Epoch-73 Test Loss: 0.0932 Test Accuracy: 97.6800\n"
     ]
    },
    {
     "name": "stderr",
     "output_type": "stream",
     "text": [
      "100%|██████████| 3125/3125 [02:57<00:00, 17.64it/s, train_accuracy=100, train_loss=2.55e-5] \n",
      "100%|██████████| 625/625 [00:12<00:00, 50.43it/s, test_accuracy=97.7, test_loss=3.9e-5]  \n"
     ]
    },
    {
     "name": "stdout",
     "output_type": "stream",
     "text": [
      "Saving new Best Model!\n",
      "Epoch-74 Train Loss: 0.0002 Train Accuracy: 99.9960\n",
      "Epoch-74 Test Loss: 0.0908 Test Accuracy: 97.7100\n"
     ]
    },
    {
     "name": "stderr",
     "output_type": "stream",
     "text": [
      "100%|██████████| 3125/3125 [02:57<00:00, 17.60it/s, train_accuracy=100, train_loss=3.58e-6] \n",
      "100%|██████████| 625/625 [00:12<00:00, 49.88it/s, test_accuracy=97.5, test_loss=0.00232] \n"
     ]
    },
    {
     "name": "stdout",
     "output_type": "stream",
     "text": [
      "Epoch-75 Train Loss: 0.0002 Train Accuracy: 99.9980\n",
      "Epoch-75 Test Loss: 0.0939 Test Accuracy: 97.5400\n"
     ]
    },
    {
     "name": "stderr",
     "output_type": "stream",
     "text": [
      "100%|██████████| 3125/3125 [02:57<00:00, 17.58it/s, train_accuracy=100, train_loss=0.000122]\n",
      "100%|██████████| 625/625 [00:12<00:00, 49.17it/s, test_accuracy=97.7, test_loss=8.29e-5] \n"
     ]
    },
    {
     "name": "stdout",
     "output_type": "stream",
     "text": [
      "Epoch-76 Train Loss: 0.0002 Train Accuracy: 99.9980\n",
      "Epoch-76 Test Loss: 0.0924 Test Accuracy: 97.6700\n"
     ]
    },
    {
     "name": "stderr",
     "output_type": "stream",
     "text": [
      "100%|██████████| 3125/3125 [02:57<00:00, 17.62it/s, train_accuracy=100, train_loss=2.77e-5] \n",
      "100%|██████████| 625/625 [00:12<00:00, 49.51it/s, test_accuracy=97.6, test_loss=0.222]   \n"
     ]
    },
    {
     "name": "stdout",
     "output_type": "stream",
     "text": [
      "Epoch-77 Train Loss: 0.0002 Train Accuracy: 99.9980\n",
      "Epoch-77 Test Loss: 0.0937 Test Accuracy: 97.6200\n"
     ]
    },
    {
     "name": "stderr",
     "output_type": "stream",
     "text": [
      "100%|██████████| 3125/3125 [02:57<00:00, 17.62it/s, train_accuracy=100, train_loss=0.00142] \n",
      "100%|██████████| 625/625 [00:12<00:00, 49.82it/s, test_accuracy=97.6, test_loss=0.000817]\n"
     ]
    },
    {
     "name": "stdout",
     "output_type": "stream",
     "text": [
      "Epoch-78 Train Loss: 0.0002 Train Accuracy: 99.9980\n",
      "Epoch-78 Test Loss: 0.0909 Test Accuracy: 97.6200\n"
     ]
    },
    {
     "name": "stderr",
     "output_type": "stream",
     "text": [
      "100%|██████████| 3125/3125 [02:57<00:00, 17.60it/s, train_accuracy=100, train_loss=4.59e-6] \n",
      "100%|██████████| 625/625 [00:12<00:00, 49.65it/s, test_accuracy=97.7, test_loss=0.0219]  \n"
     ]
    },
    {
     "name": "stdout",
     "output_type": "stream",
     "text": [
      "Epoch-79 Train Loss: 0.0002 Train Accuracy: 100.0000\n",
      "Epoch-79 Test Loss: 0.0922 Test Accuracy: 97.6900\n"
     ]
    },
    {
     "name": "stderr",
     "output_type": "stream",
     "text": [
      "100%|██████████| 3125/3125 [02:57<00:00, 17.64it/s, train_accuracy=100, train_loss=9.61e-5] \n",
      "100%|██████████| 625/625 [00:12<00:00, 49.45it/s, test_accuracy=97.6, test_loss=0.00754] \n"
     ]
    },
    {
     "name": "stdout",
     "output_type": "stream",
     "text": [
      "Epoch-80 Train Loss: 0.0002 Train Accuracy: 100.0000\n",
      "Epoch-80 Test Loss: 0.0911 Test Accuracy: 97.6200\n"
     ]
    },
    {
     "name": "stderr",
     "output_type": "stream",
     "text": [
      "100%|██████████| 3125/3125 [02:57<00:00, 17.62it/s, train_accuracy=100, train_loss=9.01e-5] \n",
      "100%|██████████| 625/625 [00:12<00:00, 50.16it/s, test_accuracy=97.7, test_loss=0.113]   \n"
     ]
    },
    {
     "name": "stdout",
     "output_type": "stream",
     "text": [
      "Epoch-81 Train Loss: 0.0002 Train Accuracy: 99.9980\n",
      "Epoch-81 Test Loss: 0.0939 Test Accuracy: 97.7000\n"
     ]
    },
    {
     "name": "stderr",
     "output_type": "stream",
     "text": [
      "100%|██████████| 3125/3125 [02:57<00:00, 17.59it/s, train_accuracy=100, train_loss=3.73e-5] \n",
      "100%|██████████| 625/625 [00:12<00:00, 48.27it/s, test_accuracy=97.7, test_loss=0.0101]  \n"
     ]
    },
    {
     "name": "stdout",
     "output_type": "stream",
     "text": [
      "Epoch-82 Train Loss: 0.0002 Train Accuracy: 100.0000\n",
      "Epoch-82 Test Loss: 0.0899 Test Accuracy: 97.6700\n"
     ]
    },
    {
     "name": "stderr",
     "output_type": "stream",
     "text": [
      "100%|██████████| 3125/3125 [02:57<00:00, 17.60it/s, train_accuracy=100, train_loss=1.87e-5] \n",
      "100%|██████████| 625/625 [00:12<00:00, 50.36it/s, test_accuracy=97.6, test_loss=0.00425] \n"
     ]
    },
    {
     "name": "stdout",
     "output_type": "stream",
     "text": [
      "Epoch-83 Train Loss: 0.0002 Train Accuracy: 99.9980\n",
      "Epoch-83 Test Loss: 0.0946 Test Accuracy: 97.6100\n"
     ]
    },
    {
     "name": "stderr",
     "output_type": "stream",
     "text": [
      "100%|██████████| 3125/3125 [02:56<00:00, 17.66it/s, train_accuracy=100, train_loss=1.79e-5] \n",
      "100%|██████████| 625/625 [00:12<00:00, 49.00it/s, test_accuracy=97.7, test_loss=0.913]   \n"
     ]
    },
    {
     "name": "stdout",
     "output_type": "stream",
     "text": [
      "Epoch-84 Train Loss: 0.0002 Train Accuracy: 99.9980\n",
      "Epoch-84 Test Loss: 0.0922 Test Accuracy: 97.6900\n"
     ]
    },
    {
     "name": "stderr",
     "output_type": "stream",
     "text": [
      "100%|██████████| 3125/3125 [02:57<00:00, 17.60it/s, train_accuracy=100, train_loss=2.43e-5] \n",
      "100%|██████████| 625/625 [00:12<00:00, 49.75it/s, test_accuracy=97.7, test_loss=0.0999]  \n"
     ]
    },
    {
     "name": "stdout",
     "output_type": "stream",
     "text": [
      "Epoch-85 Train Loss: 0.0002 Train Accuracy: 99.9960\n",
      "Epoch-85 Test Loss: 0.0920 Test Accuracy: 97.6600\n"
     ]
    },
    {
     "name": "stderr",
     "output_type": "stream",
     "text": [
      "100%|██████████| 3125/3125 [02:57<00:00, 17.60it/s, train_accuracy=100, train_loss=6.44e-5] \n",
      "100%|██████████| 625/625 [00:12<00:00, 49.26it/s, test_accuracy=97.7, test_loss=0.418]   \n"
     ]
    },
    {
     "name": "stdout",
     "output_type": "stream",
     "text": [
      "Epoch-86 Train Loss: 0.0002 Train Accuracy: 100.0000\n",
      "Epoch-86 Test Loss: 0.0915 Test Accuracy: 97.6500\n"
     ]
    },
    {
     "name": "stderr",
     "output_type": "stream",
     "text": [
      "100%|██████████| 3125/3125 [02:57<00:00, 17.56it/s, train_accuracy=100, train_loss=5.64e-5] \n",
      "100%|██████████| 625/625 [00:12<00:00, 50.11it/s, test_accuracy=97.7, test_loss=0.305]   \n"
     ]
    },
    {
     "name": "stdout",
     "output_type": "stream",
     "text": [
      "Saving new Best Model!\n",
      "Epoch-87 Train Loss: 0.0002 Train Accuracy: 100.0000\n",
      "Epoch-87 Test Loss: 0.0890 Test Accuracy: 97.7400\n"
     ]
    },
    {
     "name": "stderr",
     "output_type": "stream",
     "text": [
      "100%|██████████| 3125/3125 [02:57<00:00, 17.57it/s, train_accuracy=100, train_loss=1.15e-5] \n",
      "100%|██████████| 625/625 [00:12<00:00, 49.96it/s, test_accuracy=97.7, test_loss=0.138]   \n"
     ]
    },
    {
     "name": "stdout",
     "output_type": "stream",
     "text": [
      "Epoch-88 Train Loss: 0.0002 Train Accuracy: 99.9980\n",
      "Epoch-88 Test Loss: 0.0916 Test Accuracy: 97.6900\n"
     ]
    },
    {
     "name": "stderr",
     "output_type": "stream",
     "text": [
      "100%|██████████| 3125/3125 [02:57<00:00, 17.61it/s, train_accuracy=100, train_loss=5.42e-5] \n",
      "100%|██████████| 625/625 [00:12<00:00, 49.16it/s, test_accuracy=97.7, test_loss=1.07e-5] \n"
     ]
    },
    {
     "name": "stdout",
     "output_type": "stream",
     "text": [
      "Epoch-89 Train Loss: 0.0002 Train Accuracy: 100.0000\n",
      "Epoch-89 Test Loss: 0.0933 Test Accuracy: 97.7100\n"
     ]
    },
    {
     "name": "stderr",
     "output_type": "stream",
     "text": [
      "100%|██████████| 3125/3125 [02:57<00:00, 17.57it/s, train_accuracy=100, train_loss=3.15e-5] \n",
      "100%|██████████| 625/625 [00:12<00:00, 49.82it/s, test_accuracy=97.7, test_loss=0.000196]\n"
     ]
    },
    {
     "name": "stdout",
     "output_type": "stream",
     "text": [
      "Epoch-90 Train Loss: 0.0002 Train Accuracy: 100.0000\n",
      "Epoch-90 Test Loss: 0.0906 Test Accuracy: 97.6700\n"
     ]
    },
    {
     "name": "stderr",
     "output_type": "stream",
     "text": [
      "100%|██████████| 3125/3125 [02:57<00:00, 17.59it/s, train_accuracy=100, train_loss=3.74e-6] \n",
      "100%|██████████| 625/625 [00:12<00:00, 49.60it/s, test_accuracy=97.7, test_loss=0.0767]  \n"
     ]
    },
    {
     "name": "stdout",
     "output_type": "stream",
     "text": [
      "Epoch-91 Train Loss: 0.0002 Train Accuracy: 100.0000\n",
      "Epoch-91 Test Loss: 0.0906 Test Accuracy: 97.7200\n"
     ]
    },
    {
     "name": "stderr",
     "output_type": "stream",
     "text": [
      "100%|██████████| 3125/3125 [02:57<00:00, 17.59it/s, train_accuracy=100, train_loss=4.03e-5] \n",
      "100%|██████████| 625/625 [00:12<00:00, 48.81it/s, test_accuracy=97.6, test_loss=0.27]    \n"
     ]
    },
    {
     "name": "stdout",
     "output_type": "stream",
     "text": [
      "Epoch-92 Train Loss: 0.0002 Train Accuracy: 100.0000\n",
      "Epoch-92 Test Loss: 0.0903 Test Accuracy: 97.6300\n"
     ]
    },
    {
     "name": "stderr",
     "output_type": "stream",
     "text": [
      "100%|██████████| 3125/3125 [02:57<00:00, 17.58it/s, train_accuracy=100, train_loss=1.49e-5] \n",
      "100%|██████████| 625/625 [00:12<00:00, 49.33it/s, test_accuracy=97.7, test_loss=0.00033] \n"
     ]
    },
    {
     "name": "stdout",
     "output_type": "stream",
     "text": [
      "Epoch-93 Train Loss: 0.0002 Train Accuracy: 100.0000\n",
      "Epoch-93 Test Loss: 0.0893 Test Accuracy: 97.7300\n"
     ]
    },
    {
     "name": "stderr",
     "output_type": "stream",
     "text": [
      "100%|██████████| 3125/3125 [02:58<00:00, 17.55it/s, train_accuracy=100, train_loss=2.61e-5] \n",
      "100%|██████████| 625/625 [00:12<00:00, 49.81it/s, test_accuracy=97.6, test_loss=0.0104]  \n"
     ]
    },
    {
     "name": "stdout",
     "output_type": "stream",
     "text": [
      "Epoch-94 Train Loss: 0.0002 Train Accuracy: 99.9940\n",
      "Epoch-94 Test Loss: 0.0911 Test Accuracy: 97.6400\n"
     ]
    },
    {
     "name": "stderr",
     "output_type": "stream",
     "text": [
      "100%|██████████| 3125/3125 [02:57<00:00, 17.59it/s, train_accuracy=100, train_loss=4.46e-5] \n",
      "100%|██████████| 625/625 [00:12<00:00, 49.38it/s, test_accuracy=97.7, test_loss=0.000112]\n"
     ]
    },
    {
     "name": "stdout",
     "output_type": "stream",
     "text": [
      "Epoch-95 Train Loss: 0.0001 Train Accuracy: 100.0000\n",
      "Epoch-95 Test Loss: 0.0912 Test Accuracy: 97.6500\n"
     ]
    },
    {
     "name": "stderr",
     "output_type": "stream",
     "text": [
      "100%|██████████| 3125/3125 [02:57<00:00, 17.62it/s, train_accuracy=100, train_loss=9.92e-6] \n",
      "100%|██████████| 625/625 [00:12<00:00, 49.77it/s, test_accuracy=97.8, test_loss=0.0229]  \n"
     ]
    },
    {
     "name": "stdout",
     "output_type": "stream",
     "text": [
      "Saving new Best Model!\n",
      "Epoch-96 Train Loss: 0.0002 Train Accuracy: 100.0000\n",
      "Epoch-96 Test Loss: 0.0903 Test Accuracy: 97.7600\n"
     ]
    },
    {
     "name": "stderr",
     "output_type": "stream",
     "text": [
      "100%|██████████| 3125/3125 [02:57<00:00, 17.62it/s, train_accuracy=100, train_loss=2.72e-5] \n",
      "100%|██████████| 625/625 [00:12<00:00, 49.86it/s, test_accuracy=97.7, test_loss=0.00216] \n"
     ]
    },
    {
     "name": "stdout",
     "output_type": "stream",
     "text": [
      "Epoch-97 Train Loss: 0.0002 Train Accuracy: 100.0000\n",
      "Epoch-97 Test Loss: 0.0900 Test Accuracy: 97.7000\n"
     ]
    },
    {
     "name": "stderr",
     "output_type": "stream",
     "text": [
      "100%|██████████| 3125/3125 [02:57<00:00, 17.60it/s, train_accuracy=100, train_loss=5.93e-6] \n",
      "100%|██████████| 625/625 [00:12<00:00, 49.71it/s, test_accuracy=97.7, test_loss=0.0521]  \n"
     ]
    },
    {
     "name": "stdout",
     "output_type": "stream",
     "text": [
      "Epoch-98 Train Loss: 0.0002 Train Accuracy: 100.0000\n",
      "Epoch-98 Test Loss: 0.0914 Test Accuracy: 97.6600\n"
     ]
    },
    {
     "name": "stderr",
     "output_type": "stream",
     "text": [
      "100%|██████████| 3125/3125 [02:57<00:00, 17.64it/s, train_accuracy=100, train_loss=1.76e-5] \n",
      "100%|██████████| 625/625 [00:12<00:00, 49.99it/s, test_accuracy=97.7, test_loss=0.00288] \n"
     ]
    },
    {
     "name": "stdout",
     "output_type": "stream",
     "text": [
      "Epoch-99 Train Loss: 0.0002 Train Accuracy: 100.0000\n",
      "Epoch-99 Test Loss: 0.0943 Test Accuracy: 97.6600\n"
     ]
    },
    {
     "name": "stderr",
     "output_type": "stream",
     "text": [
      "100%|██████████| 3125/3125 [02:57<00:00, 17.57it/s, train_accuracy=100, train_loss=1.1e-5]  \n",
      "100%|██████████| 625/625 [00:12<00:00, 49.03it/s, test_accuracy=97.7, test_loss=0.0349]  "
     ]
    },
    {
     "name": "stdout",
     "output_type": "stream",
     "text": [
      "Epoch-100 Train Loss: 0.0002 Train Accuracy: 100.0000\n",
      "Epoch-100 Test Loss: 0.0896 Test Accuracy: 97.7000\n"
     ]
    },
    {
     "name": "stderr",
     "output_type": "stream",
     "text": [
      "\n"
     ]
    }
   ],
   "source": [
    "last_best = 0\n",
    "train_losses = []\n",
    "train_acc = []\n",
    "test_losses = []\n",
    "test_acc = []\n",
    "for epoch in range (EPOCHS):\n",
    "    \n",
    "    train_loss, train_accuracy = trainEpoch(DEVICE, model, train_loader, optimizer, criterion)\n",
    "    test_loss, test_accuracy = testEpoch(DEVICE, model, test_loader, criterion)\n",
    "\n",
    "    train_losses.append(train_loss)\n",
    "    train_acc.append(train_accuracy)\n",
    "    test_losses.append(test_loss)\n",
    "    test_acc.append(test_accuracy)\n",
    "\n",
    "    scheduler.step()\n",
    "\n",
    "    if last_best <= test_accuracy:\n",
    "        torch.save(model.state_dict(), 'resnet_50_pretrained_baseline.pt')\n",
    "        print(\"Saving new Best Model!\")\n",
    "        last_best = test_accuracy\n",
    "\n",
    "    print(f\"Epoch-{epoch+1} Train Loss: {train_losses[-1]:.4f} Train Accuracy: {train_acc[-1]:.4f}\")\n",
    "    print(f\"Epoch-{epoch+1} Test Loss: {test_losses[-1]:.4f} Test Accuracy: {test_acc[-1]:.4f}\")\n",
    "\n",
    "dict = {'train_loss': train_losses, 'train_accuracy': train_acc, 'test_loss': test_losses, 'test_accuracy': test_acc}\n",
    "df = pd.DataFrame(dict)\n",
    "df.to_csv('loss_and_acc_resnet50_baseline.csv')"
   ]
  },
  {
   "cell_type": "code",
   "execution_count": 16,
   "id": "286ef4ad-8bf2-41f8-8028-5c1c6de86087",
   "metadata": {},
   "outputs": [],
   "source": [
    "df = pd.read_csv('loss_and_acc_resnet50_baseline.csv')"
   ]
  },
  {
   "cell_type": "code",
   "execution_count": 18,
   "id": "94b3bf28-8e8b-4ddf-af68-bfbf7a8e7b0d",
   "metadata": {},
   "outputs": [],
   "source": [
    "train_loss = df['train_loss']\n",
    "train_accuracy = df['train_accuracy']\n",
    "test_loss = df['test_loss']\n",
    "test_accuracy = df['test_accuracy']"
   ]
  },
  {
   "cell_type": "code",
   "execution_count": 19,
   "id": "5f39d905-b578-4033-8dab-c38ea8cebe3a",
   "metadata": {},
   "outputs": [
    {
     "data": {
      "text/plain": [
       "0     0.334044\n",
       "1     0.151263\n",
       "2     0.097997\n",
       "3     0.073482\n",
       "4     0.054736\n",
       "        ...   \n",
       "95    0.000157\n",
       "96    0.000172\n",
       "97    0.000178\n",
       "98    0.000166\n",
       "99    0.000153\n",
       "Name: train_loss, Length: 100, dtype: float64"
      ]
     },
     "execution_count": 19,
     "metadata": {},
     "output_type": "execute_result"
    }
   ],
   "source": []
  },
  {
   "cell_type": "code",
   "execution_count": 24,
   "id": "e8e0fc2f-c174-454e-b193-1f7450b4b3f2",
   "metadata": {},
   "outputs": [
    {
     "data": {
      "image/png": "[encoded data removed]",
      "text/plain": [
       "<Figure size 432x288 with 1 Axes>"
      ]
     },
     "metadata": {
      "needs_background": "light"
     },
     "output_type": "display_data"
    },
    {
     "data": {
      "text/plain": [
       "<Figure size 432x288 with 0 Axes>"
      ]
     },
     "metadata": {},
     "output_type": "display_data"
    }
   ],
   "source": [
    "#Plotting Loss\n",
    "plt.plot(train_loss, label='train_loss')\n",
    "plt.plot(test_loss, label='valid_loss')\n",
    "plt.title('Loss per epoch')\n",
    "plt.xlabel('Epochs')\n",
    "plt.ylabel('Loss')\n",
    "plt.legend()\n",
    "plt.grid()\n",
    "plt.show()\n",
    "plt.savefig('loss.jpg')"
   ]
  },
  {
   "cell_type": "code",
   "execution_count": 25,
   "id": "c3696388-f90f-4fd3-a477-0cb5a6035692",
   "metadata": {},
   "outputs": [
    {
     "data": {
      "image/png": "[encoded data removed]",
      "text/plain": [
       "<Figure size 432x288 with 1 Axes>"
      ]
     },
     "metadata": {
      "needs_background": "light"
     },
     "output_type": "display_data"
    },
    {
     "data": {
      "text/plain": [
       "<Figure size 432x288 with 0 Axes>"
      ]
     },
     "metadata": {},
     "output_type": "display_data"
    }
   ],
   "source": [
    "#Plotting Loss\n",
    "plt.plot(train_accuracy, label='train_accuracy')\n",
    "plt.plot(test_accuracy, label='test_accuracy')\n",
    "plt.title('Accuracy per epoch')\n",
    "plt.xlabel('Epochs')\n",
    "plt.ylabel('Accuracy')\n",
    "plt.legend()\n",
    "plt.grid()\n",
    "plt.show()\n",
    "plt.savefig('accuracy.jpg')"
   ]
  },
  {
   "cell_type": "code",
   "execution_count": null,
   "id": "d3787e3d-0c35-4b0c-9287-30016c5e7f2f",
   "metadata": {},
   "outputs": [],
   "source": []
  }
 ],
 "metadata": {
  "kernelspec": {
   "display_name": "Semantic Segmentation Pytorch-GIT",
   "language": "python",
   "name": "smp"
  },
  "language_info": {
   "codemirror_mode": {
    "name": "ipython",
    "version": 3
   },
   "file_extension": ".py",
   "mimetype": "text/x-python",
   "name": "python",
   "nbconvert_exporter": "python",
   "pygments_lexer": "ipython3",
   "version": "3.8.12"
  }
 },
 "nbformat": 4,
 "nbformat_minor": 5
}
